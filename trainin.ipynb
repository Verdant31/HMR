{
 "cells": [
  {
   "cell_type": "code",
   "execution_count": null,
   "metadata": {},
   "outputs": [],
   "source": [
    "# Abrindo os arquivos e formatando \n",
    "from sklearn.model_selection import train_test_split\n",
    "from tensorflow import keras\n",
    "import pandas as pd\n",
    "import tensorflow as tf\n",
    "import numpy as np\n",
    "def warn(*args, **kwargs):\n",
    "    pass\n",
    "import warnings\n",
    "warnings.warn = warn\n",
    "\n",
    "data = pd.read_csv('data.csv', sep = ',')\n",
    "\n",
    "# Separando atributos e resultados\n",
    "x = data.drop(columns = ['result'])\n",
    "y = data['result']"
   ]
  },
  {
   "cell_type": "code",
   "execution_count": null,
   "metadata": {},
   "outputs": [],
   "source": [
    "# Normalizando\n",
    "from sklearn.preprocessing import MinMaxScaler\n",
    "from pickle import dump\n",
    "\n",
    "normalizer = MinMaxScaler()\n",
    "normalizerModel = normalizer.fit(x)\n",
    "dump(normalizerModel, open('normalizerModel.pkl', 'wb')) \n",
    "\n",
    "x_normalized = normalizer.fit_transform(x)\n",
    "y = pd.DataFrame(y)"
   ]
  },
  {
   "cell_type": "code",
   "execution_count": null,
   "metadata": {},
   "outputs": [],
   "source": [
    "# Balanceando\n",
    "from imblearn.over_sampling import SMOTE\n",
    "resampler = SMOTE(k_neighbors=4)\n",
    "x_balanced, y_balanced = resampler.fit_resample(x_normalized, y)"
   ]
  },
  {
   "cell_type": "code",
   "execution_count": null,
   "metadata": {},
   "outputs": [],
   "source": [
    "# Separando dados para atributos e treinamento\n",
    "x_train, x_test, y_train, y_test = train_test_split(x_balanced, y_balanced, test_size=0.1)"
   ]
  },
  {
   "cell_type": "code",
   "execution_count": null,
   "metadata": {},
   "outputs": [],
   "source": [
    "# Verificando os dados\n",
    "print(\"Quantidade de Dados de Treino:\" ,len(x_train))\n",
    "print(\"Quantidade de Dados de Teste:\" ,len(x_test))\n",
    "\n",
    "print(\"Quantidade de Dados de Treino e dos atributos:\" ,x_train.shape)\n",
    "print(\"Quantidade de Dados de Teste e dos atributos\" ,x_test.shape)\n",
    "\n",
    "print(\"Quantidade de Saidas de Treino e coluna:\" ,y_train.shape)\n",
    "print(\"Quantidade de Saidas de Teste e coluna:\" ,y_test.shape)\n",
    "\n",
    "print(\"min: \", y_train.min())\n",
    "print(\"max: \", y_test.max())"
   ]
  },
  {
   "cell_type": "code",
   "execution_count": null,
   "metadata": {},
   "outputs": [],
   "source": [
    "# Criando o modelo da rede neural\n",
    "modelo = keras.Sequential([\n",
    "  keras.layers.Dense(250, activation=tf.nn.relu, input_shape =(840, )),\n",
    "  keras.layers.Dense(150, activation=tf.nn.relu),\n",
    "  keras.layers.Dense(110, activation=tf.nn.relu),\n",
    "  keras.layers.Dense(50, activation=tf.nn.relu),\n",
    "  keras.layers.Dense(80, activation=tf.nn.relu),\n",
    "  keras.layers.Dense(3, activation=tf.nn.softmax)\n",
    "])\n",
    "modelo.compile(loss ='sparse_categorical_crossentropy', optimizer ='adam', metrics =['accuracy'])"
   ]
  },
  {
   "cell_type": "code",
   "execution_count": null,
   "metadata": {},
   "outputs": [],
   "source": [
    "# Treinando o modelo\n",
    "x = modelo.fit(x_train, y_train, epochs = 150, batch_size = 64)\n",
    "test_loss, test_accuracy = modelo.evaluate(x_test, y_test)"
   ]
  },
  {
   "cell_type": "code",
   "execution_count": null,
   "metadata": {},
   "outputs": [],
   "source": [
    "def compare(lmList, cropped):\n",
    "    imageHeight = cropped.shape[0]\n",
    "    imageWidth = cropped.shape[1]\n",
    "    comparisons = []\n",
    "    for i, lm in enumerate(lmList):\n",
    "        currentLmComparison = []\n",
    "        for index in range(len(lmList)):\n",
    "            if index == len(lmList):\n",
    "                break\n",
    "            if lmList[i][0] == lmList[index][0]:\n",
    "                continue\n",
    "            comparisonX = round(abs(((lmList[index][1] - lmList[i][1]) * 100) / imageWidth ), 2)\n",
    "            comparisonY = round(abs(((lmList[i][2] - lmList[index][2]) * 100) / imageHeight ), 2)\n",
    "            currentLmComparison.append([lmList[i][0], lmList[index][0], comparisonX, comparisonY])\n",
    "        comparisons.append(currentLmComparison)\n",
    "    formattedLm = []\n",
    "    for comparison in comparisons:\n",
    "        for lm in comparison:\n",
    "            formattedLm.append(lm[2])\n",
    "            formattedLm.append(lm[3])\n",
    "    return formattedLm"
   ]
  },
  {
   "cell_type": "code",
   "execution_count": 22,
   "metadata": {},
   "outputs": [
    {
     "name": "stdout",
     "output_type": "stream",
     "text": [
      "Escape hit, closing...\n"
     ]
    }
   ],
   "source": [
    "alfabeto = ['A','B', 'Nop']\n",
    "import cv2\n",
    "import numpy as np\n",
    "from pickle import load\n",
    "import HandTrackingModule as htm\n",
    "import pandas as pd\n",
    "\n",
    "normalizer = load(open('normalizerModel.pkl', 'rb'))\n",
    "detector = htm.handDetector()\n",
    "cap = cv2.VideoCapture(0)\n",
    "formattedLm = []\n",
    "\n",
    "rightMovesCounter = 0\n",
    "moveStarted = False\n",
    "moveSymbol = \"\"\n",
    "moveFinished = False\n",
    "\n",
    "leftVariation = []\n",
    "rightVariation = []\n",
    "upVariation = []\n",
    "downVariation = []\n",
    "\n",
    "while True:\n",
    "    success, img = cap.read()\n",
    "    img = detector.findHands(img, draw=True)\n",
    "    sizes = detector.getNewSizes(img)\n",
    "    cropped = img[sizes[0]:sizes[1], sizes[3]:sizes[2]]\n",
    "    k = cv2.waitKey(1)\n",
    "\n",
    "    if(cropped.shape[0] > 0 and cropped.shape[1] > 0 and not moveStarted):\n",
    "        lmList = detector.findPosition(cropped, draw=False)\n",
    "        formattedLm = compare(lmList, cropped)\n",
    "        x_normalized = pd.DataFrame(formattedLm).transpose()\n",
    "        x_normalized = normalizer.transform(x_normalized)\n",
    "        predict = modelo.predict(x_normalized, verbose =0)\n",
    "        if(int(np.argmax(predict))):\n",
    "            rightMovesCounter = 0\n",
    "        if(predict[0][np.argmax(predict)] > 0.98 and int(np.argmax(predict)) < 2):\n",
    "            rightMovesCounter += 1\n",
    "            if(rightMovesCounter > 30):\n",
    "                moveStarted = True\n",
    "                moveSymbol = alfabeto[int(np.argmax(predict))]\n",
    "    elif(cropped.shape[0] > 0 and cropped.shape[1] > 0 and moveStarted and not moveFinished):\n",
    "        lmList = detector.findPosition(cropped, draw=False)\n",
    "        formattedLm = compare(lmList, cropped)\n",
    "        x_normalized = pd.DataFrame(formattedLm).transpose()\n",
    "        x_normalized = normalizer.transform(x_normalized)\n",
    "        predict = modelo.predict(x_normalized, verbose =0)\n",
    "        if(alfabeto[int(np.argmax(predict))] == moveSymbol):\n",
    "            for id, lm in enumerate(lmList):\n",
    "                if(id == 12):\n",
    "                    upVariation.append(lm[2])\n",
    "                if(id == 0):\n",
    "                    downVariation.append(lm[2])\n",
    "                if(id == 20):\n",
    "                    rightVariation.append(lm[1])\n",
    "                if(id == 4):\n",
    "                    leftVariation.append(lm[1])\n",
    "        if(alfabeto[int(np.argmax(predict))] == \"Nop\"):\n",
    "            moveFinished = True\n",
    "    elif(((not cropped.shape[0] > 0 and not cropped.shape[1]) or moveFinished) > 0 and moveStarted):\n",
    "        moveStarted = False\n",
    "        topInterval = max(upVariation) - min(upVariation)\n",
    "        bottomInterval = max(downVariation) - min(downVariation)\n",
    "        rightInterval = max(rightVariation) - min(rightVariation)\n",
    "        leftInterval = max(leftVariation) - min(leftVariation)\n",
    "        # Se ele levou a mão pra cima\n",
    "        if(topInterval > bottomInterval and topInterval > rightInterval and topInterval > leftInterval):\n",
    "            print(\"Opa cima\")\n",
    "        # Se ele levou a mão pra baixo\n",
    "        elif(bottomInterval > topInterval and bottomInterval > rightInterval and bottomInterval > leftInterval):\n",
    "            print(\"Opa baixo\")\n",
    "        # Se ele levou a mão pra direita\n",
    "        elif(rightInterval > topInterval and rightInterval > bottomInterval and rightInterval > leftInterval):\n",
    "            print(\"Opa direita\")\n",
    "        # Se ele levou a mão pra esquerda\n",
    "        elif(leftInterval > topInterval and leftInterval > bottomInterval and leftInterval > rightInterval):\n",
    "            print(\"Opa esquerda\")\n",
    "        # TODO - Analisar o simbolo que foi armazenado, analisar as variações e supor qual comando é.\n",
    "        print(\"opa, aqui o movimento acabou\")\n",
    "    else:\n",
    "       rightMovesCounter=0\n",
    "    if k%256 == 27:\n",
    "        print(\"Escape hit, closing...\")\n",
    "        break\n",
    "    cv2.imshow(\"Image\", img)\n",
    "\n",
    "cap.release()\n",
    "cv2.destroyAllWindows()"
   ]
  },
  {
   "cell_type": "code",
   "execution_count": null,
   "metadata": {},
   "outputs": [],
   "source": []
  }
 ],
 "metadata": {
  "kernelspec": {
   "display_name": "Python 3.9.13 ('base')",
   "language": "python",
   "name": "python3"
  },
  "language_info": {
   "codemirror_mode": {
    "name": "ipython",
    "version": 3
   },
   "file_extension": ".py",
   "mimetype": "text/x-python",
   "name": "python",
   "nbconvert_exporter": "python",
   "pygments_lexer": "ipython3",
   "version": "3.9.13"
  },
  "orig_nbformat": 4,
  "vscode": {
   "interpreter": {
    "hash": "eca024455c4833da5ebd8d9f8d721333677c348aa809892c0b0eda440122e3a6"
   }
  }
 },
 "nbformat": 4,
 "nbformat_minor": 2
}
