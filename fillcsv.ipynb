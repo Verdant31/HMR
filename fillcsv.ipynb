{
 "cells": [
  {
   "cell_type": "code",
   "execution_count": 3,
   "metadata": {},
   "outputs": [
    {
     "name": "stdout",
     "output_type": "stream",
     "text": [
      "Escape hit, closing...\n"
     ]
    }
   ],
   "source": [
    "import cv2\n",
    "import HandTrackingModule as htm\n",
    "import csv\n",
    "\n",
    "detector = htm.handDetector()\n",
    "pTime = 0\n",
    "cTime = 0\n",
    "cap = cv2.VideoCapture(0)\n",
    "\n",
    "filename = 'C:/Users/Administrador/Desktop/neural/data.csv'\n",
    "csvwriter = csv.writer(open(filename, 'a', newline=''))\n",
    "img_counter = 0\n",
    "\n",
    "notFoundNewSize = True\n",
    "while notFoundNewSize:\n",
    "    success, img = cap.read()\n",
    "    img = detector.findHands(img, draw=True)\n",
    "\n",
    "    sizes = detector.getNewSizes(img)\n",
    "\n",
    "    k = cv2.waitKey(1)\n",
    "\n",
    "    if not success:\n",
    "        print(\"failed to grab frame\")\n",
    "        break\n",
    "\n",
    "    if k%256 == 27:\n",
    "        print(\"Escape hit, closing...\")\n",
    "        break\n",
    "    cropped = img[sizes[0]:sizes[1], sizes[3]:sizes[2]]\n",
    "\n",
    "    if(cropped.shape[0] > 0 and cropped.shape[1] > 0):\n",
    "        cv2.imshow(\"test2\", cropped)\n",
    "        lmList = detector.findPosition(cropped, draw=False)\n",
    "        if k != -1:\n",
    "            imageHeight = cropped.shape[0]\n",
    "            imageWidth = cropped.shape[1]\n",
    "            comparisons = []\n",
    "            for i, lm in enumerate(lmList):\n",
    "                currentLmComparison = []\n",
    "                for index in range(len(lmList)):\n",
    "                    if index == len(lmList):\n",
    "                        break\n",
    "                    if lmList[i][0] == lmList[index][0]:\n",
    "                        continue\n",
    "                    comparisonX = round(abs(((lmList[index][1] - lmList[i][1]) * 100) / imageWidth ), 2)\n",
    "                    comparisonY = round(abs(((lmList[i][2] - lmList[index][2]) * 100) / imageHeight ), 2)\n",
    "                    currentLmComparison.append([lmList[i][0], lmList[index][0], comparisonX, comparisonY])\n",
    "                comparisons.append(currentLmComparison)\n",
    "            formattedLm = []\n",
    "            for comparison in comparisons:\n",
    "                for lm in comparison:\n",
    "                    formattedLm.append(lm[2])\n",
    "                    formattedLm.append(lm[3])\n",
    "            formattedLm.append(2)\n",
    "            img_counter = img_counter + 1\n",
    "            print(\"Imagem criada \" + str(img_counter) )\n",
    "            csvwriter.writerow(formattedLm)\n",
    "    cv2.imshow(\"test\", img)\n",
    "\n",
    "cap.release()\n",
    "cv2.destroyAllWindows()\n"
   ]
  },
  {
   "cell_type": "code",
   "execution_count": null,
   "metadata": {},
   "outputs": [],
   "source": [
    "\n"
   ]
  }
 ],
 "metadata": {
  "kernelspec": {
   "display_name": "Python 3.9.13 ('base')",
   "language": "python",
   "name": "python3"
  },
  "language_info": {
   "codemirror_mode": {
    "name": "ipython",
    "version": 3
   },
   "file_extension": ".py",
   "mimetype": "text/x-python",
   "name": "python",
   "nbconvert_exporter": "python",
   "pygments_lexer": "ipython3",
   "version": "3.9.13"
  },
  "orig_nbformat": 4,
  "vscode": {
   "interpreter": {
    "hash": "eca024455c4833da5ebd8d9f8d721333677c348aa809892c0b0eda440122e3a6"
   }
  }
 },
 "nbformat": 4,
 "nbformat_minor": 2
}
